{
 "cells": [
  {
   "cell_type": "code",
   "execution_count": 28,
   "metadata": {},
   "outputs": [],
   "source": [
    "import pandas as pd \n",
    "import numpy as np \n",
    "import os\n",
    "from matplotlib import pyplot as plt"
   ]
  },
  {
   "cell_type": "code",
   "execution_count": 4,
   "metadata": {},
   "outputs": [
    {
     "data": {
      "text/plain": [
       "['risk_factors_cervical_cancer.csv',\n",
       " 'cervical_cancer_stats.ipynb',\n",
       " 'README.md',\n",
       " '.gitignore',\n",
       " '.ipynb_checkpoints',\n",
       " '.git']"
      ]
     },
     "execution_count": 4,
     "metadata": {},
     "output_type": "execute_result"
    }
   ],
   "source": [
    "os.listdir()"
   ]
  },
  {
   "cell_type": "code",
   "execution_count": 6,
   "metadata": {},
   "outputs": [],
   "source": [
    "df = pd.read_csv('risk_factors_cervical_cancer.csv')"
   ]
  },
  {
   "cell_type": "code",
   "execution_count": 38,
   "metadata": {},
   "outputs": [],
   "source": [
    "df.columns = df.columns.str.replace('\\W+','_', regex=True).str.lower().str.strip('_')"
   ]
  },
  {
   "cell_type": "code",
   "execution_count": 39,
   "metadata": {},
   "outputs": [
    {
     "data": {
      "text/plain": [
       "Index(['age', 'number_of_sexual_partners', 'first_sexual_intercourse',\n",
       "       'num_of_pregnancies', 'smokes', 'smokes_years', 'smokes_packs_year',\n",
       "       'hormonal_contraceptives', 'hormonal_contraceptives_years', 'iud',\n",
       "       'iud_years', 'stds', 'stds_number', 'stds_condylomatosis',\n",
       "       'stds_cervical_condylomatosis', 'stds_vaginal_condylomatosis',\n",
       "       'stds_vulvo_perineal_condylomatosis', 'stds_syphilis',\n",
       "       'stds_pelvic_inflammatory_disease', 'stds_genital_herpes',\n",
       "       'stds_molluscum_contagiosum', 'stds_aids', 'stds_hiv',\n",
       "       'stds_hepatitis_b', 'stds_hpv', 'stds_number_of_diagnosis',\n",
       "       'stds_time_since_first_diagnosis', 'stds_time_since_last_diagnosis',\n",
       "       'dx_cancer', 'dx_cin', 'dx_hpv', 'dx', 'hinselmann', 'schiller',\n",
       "       'citology', 'biopsy'],\n",
       "      dtype='object')"
      ]
     },
     "execution_count": 39,
     "metadata": {},
     "output_type": "execute_result"
    }
   ],
   "source": [
    "df.columns"
   ]
  },
  {
   "cell_type": "code",
   "execution_count": 40,
   "metadata": {},
   "outputs": [
    {
     "name": "stdout",
     "output_type": "stream",
     "text": [
      "<class 'pandas.core.frame.DataFrame'>\n",
      "RangeIndex: 858 entries, 0 to 857\n",
      "Data columns (total 36 columns):\n",
      "age                                   858 non-null int64\n",
      "number_of_sexual_partners             858 non-null object\n",
      "first_sexual_intercourse              858 non-null object\n",
      "num_of_pregnancies                    858 non-null object\n",
      "smokes                                858 non-null object\n",
      "smokes_years                          858 non-null object\n",
      "smokes_packs_year                     858 non-null object\n",
      "hormonal_contraceptives               858 non-null object\n",
      "hormonal_contraceptives_years         858 non-null object\n",
      "iud                                   858 non-null object\n",
      "iud_years                             858 non-null object\n",
      "stds                                  858 non-null object\n",
      "stds_number                           858 non-null object\n",
      "stds_condylomatosis                   858 non-null object\n",
      "stds_cervical_condylomatosis          858 non-null object\n",
      "stds_vaginal_condylomatosis           858 non-null object\n",
      "stds_vulvo_perineal_condylomatosis    858 non-null object\n",
      "stds_syphilis                         858 non-null object\n",
      "stds_pelvic_inflammatory_disease      858 non-null object\n",
      "stds_genital_herpes                   858 non-null object\n",
      "stds_molluscum_contagiosum            858 non-null object\n",
      "stds_aids                             858 non-null object\n",
      "stds_hiv                              858 non-null object\n",
      "stds_hepatitis_b                      858 non-null object\n",
      "stds_hpv                              858 non-null object\n",
      "stds_number_of_diagnosis              858 non-null int64\n",
      "stds_time_since_first_diagnosis       858 non-null object\n",
      "stds_time_since_last_diagnosis        858 non-null object\n",
      "dx_cancer                             858 non-null int64\n",
      "dx_cin                                858 non-null int64\n",
      "dx_hpv                                858 non-null int64\n",
      "dx                                    858 non-null int64\n",
      "hinselmann                            858 non-null int64\n",
      "schiller                              858 non-null int64\n",
      "citology                              858 non-null int64\n",
      "biopsy                                858 non-null int64\n",
      "dtypes: int64(10), object(26)\n",
      "memory usage: 241.4+ KB\n"
     ]
    }
   ],
   "source": [
    "df.info()"
   ]
  },
  {
   "cell_type": "code",
   "execution_count": 46,
   "metadata": {},
   "outputs": [
    {
     "data": {
      "text/html": [
       "<div>\n",
       "<style scoped>\n",
       "    .dataframe tbody tr th:only-of-type {\n",
       "        vertical-align: middle;\n",
       "    }\n",
       "\n",
       "    .dataframe tbody tr th {\n",
       "        vertical-align: top;\n",
       "    }\n",
       "\n",
       "    .dataframe thead th {\n",
       "        text-align: right;\n",
       "    }\n",
       "</style>\n",
       "<table border=\"1\" class=\"dataframe\">\n",
       "  <thead>\n",
       "    <tr style=\"text-align: right;\">\n",
       "      <th></th>\n",
       "      <th>age</th>\n",
       "      <th>number_of_sexual_partners</th>\n",
       "      <th>first_sexual_intercourse</th>\n",
       "      <th>num_of_pregnancies</th>\n",
       "      <th>smokes</th>\n",
       "      <th>smokes_years</th>\n",
       "      <th>smokes_packs_year</th>\n",
       "      <th>hormonal_contraceptives</th>\n",
       "      <th>hormonal_contraceptives_years</th>\n",
       "      <th>iud</th>\n",
       "      <th>...</th>\n",
       "      <th>stds_time_since_first_diagnosis</th>\n",
       "      <th>stds_time_since_last_diagnosis</th>\n",
       "      <th>dx_cancer</th>\n",
       "      <th>dx_cin</th>\n",
       "      <th>dx_hpv</th>\n",
       "      <th>dx</th>\n",
       "      <th>hinselmann</th>\n",
       "      <th>schiller</th>\n",
       "      <th>citology</th>\n",
       "      <th>biopsy</th>\n",
       "    </tr>\n",
       "  </thead>\n",
       "  <tbody>\n",
       "    <tr>\n",
       "      <th>0</th>\n",
       "      <td>18</td>\n",
       "      <td>4.0</td>\n",
       "      <td>15.0</td>\n",
       "      <td>1.0</td>\n",
       "      <td>0.0</td>\n",
       "      <td>0.0</td>\n",
       "      <td>0.0</td>\n",
       "      <td>0.0</td>\n",
       "      <td>0.0</td>\n",
       "      <td>0.0</td>\n",
       "      <td>...</td>\n",
       "      <td>?</td>\n",
       "      <td>?</td>\n",
       "      <td>0</td>\n",
       "      <td>0</td>\n",
       "      <td>0</td>\n",
       "      <td>0</td>\n",
       "      <td>0</td>\n",
       "      <td>0</td>\n",
       "      <td>0</td>\n",
       "      <td>0</td>\n",
       "    </tr>\n",
       "    <tr>\n",
       "      <th>1</th>\n",
       "      <td>15</td>\n",
       "      <td>1.0</td>\n",
       "      <td>14.0</td>\n",
       "      <td>1.0</td>\n",
       "      <td>0.0</td>\n",
       "      <td>0.0</td>\n",
       "      <td>0.0</td>\n",
       "      <td>0.0</td>\n",
       "      <td>0.0</td>\n",
       "      <td>0.0</td>\n",
       "      <td>...</td>\n",
       "      <td>?</td>\n",
       "      <td>?</td>\n",
       "      <td>0</td>\n",
       "      <td>0</td>\n",
       "      <td>0</td>\n",
       "      <td>0</td>\n",
       "      <td>0</td>\n",
       "      <td>0</td>\n",
       "      <td>0</td>\n",
       "      <td>0</td>\n",
       "    </tr>\n",
       "    <tr>\n",
       "      <th>2</th>\n",
       "      <td>34</td>\n",
       "      <td>1.0</td>\n",
       "      <td>?</td>\n",
       "      <td>1.0</td>\n",
       "      <td>0.0</td>\n",
       "      <td>0.0</td>\n",
       "      <td>0.0</td>\n",
       "      <td>0.0</td>\n",
       "      <td>0.0</td>\n",
       "      <td>0.0</td>\n",
       "      <td>...</td>\n",
       "      <td>?</td>\n",
       "      <td>?</td>\n",
       "      <td>0</td>\n",
       "      <td>0</td>\n",
       "      <td>0</td>\n",
       "      <td>0</td>\n",
       "      <td>0</td>\n",
       "      <td>0</td>\n",
       "      <td>0</td>\n",
       "      <td>0</td>\n",
       "    </tr>\n",
       "    <tr>\n",
       "      <th>3</th>\n",
       "      <td>52</td>\n",
       "      <td>5.0</td>\n",
       "      <td>16.0</td>\n",
       "      <td>4.0</td>\n",
       "      <td>1.0</td>\n",
       "      <td>37.0</td>\n",
       "      <td>37.0</td>\n",
       "      <td>1.0</td>\n",
       "      <td>3.0</td>\n",
       "      <td>0.0</td>\n",
       "      <td>...</td>\n",
       "      <td>?</td>\n",
       "      <td>?</td>\n",
       "      <td>1</td>\n",
       "      <td>0</td>\n",
       "      <td>1</td>\n",
       "      <td>0</td>\n",
       "      <td>0</td>\n",
       "      <td>0</td>\n",
       "      <td>0</td>\n",
       "      <td>0</td>\n",
       "    </tr>\n",
       "    <tr>\n",
       "      <th>4</th>\n",
       "      <td>46</td>\n",
       "      <td>3.0</td>\n",
       "      <td>21.0</td>\n",
       "      <td>4.0</td>\n",
       "      <td>0.0</td>\n",
       "      <td>0.0</td>\n",
       "      <td>0.0</td>\n",
       "      <td>1.0</td>\n",
       "      <td>15.0</td>\n",
       "      <td>0.0</td>\n",
       "      <td>...</td>\n",
       "      <td>?</td>\n",
       "      <td>?</td>\n",
       "      <td>0</td>\n",
       "      <td>0</td>\n",
       "      <td>0</td>\n",
       "      <td>0</td>\n",
       "      <td>0</td>\n",
       "      <td>0</td>\n",
       "      <td>0</td>\n",
       "      <td>0</td>\n",
       "    </tr>\n",
       "  </tbody>\n",
       "</table>\n",
       "<p>5 rows × 36 columns</p>\n",
       "</div>"
      ],
      "text/plain": [
       "   age number_of_sexual_partners first_sexual_intercourse num_of_pregnancies  \\\n",
       "0   18                       4.0                     15.0                1.0   \n",
       "1   15                       1.0                     14.0                1.0   \n",
       "2   34                       1.0                        ?                1.0   \n",
       "3   52                       5.0                     16.0                4.0   \n",
       "4   46                       3.0                     21.0                4.0   \n",
       "\n",
       "  smokes smokes_years smokes_packs_year hormonal_contraceptives  \\\n",
       "0    0.0          0.0               0.0                     0.0   \n",
       "1    0.0          0.0               0.0                     0.0   \n",
       "2    0.0          0.0               0.0                     0.0   \n",
       "3    1.0         37.0              37.0                     1.0   \n",
       "4    0.0          0.0               0.0                     1.0   \n",
       "\n",
       "  hormonal_contraceptives_years  iud  ... stds_time_since_first_diagnosis  \\\n",
       "0                           0.0  0.0  ...                               ?   \n",
       "1                           0.0  0.0  ...                               ?   \n",
       "2                           0.0  0.0  ...                               ?   \n",
       "3                           3.0  0.0  ...                               ?   \n",
       "4                          15.0  0.0  ...                               ?   \n",
       "\n",
       "  stds_time_since_last_diagnosis dx_cancer dx_cin dx_hpv dx hinselmann  \\\n",
       "0                              ?         0      0      0  0          0   \n",
       "1                              ?         0      0      0  0          0   \n",
       "2                              ?         0      0      0  0          0   \n",
       "3                              ?         1      0      1  0          0   \n",
       "4                              ?         0      0      0  0          0   \n",
       "\n",
       "  schiller citology biopsy  \n",
       "0        0        0      0  \n",
       "1        0        0      0  \n",
       "2        0        0      0  \n",
       "3        0        0      0  \n",
       "4        0        0      0  \n",
       "\n",
       "[5 rows x 36 columns]"
      ]
     },
     "execution_count": 46,
     "metadata": {},
     "output_type": "execute_result"
    }
   ],
   "source": [
    "df.head()"
   ]
  },
  {
   "cell_type": "code",
   "execution_count": 48,
   "metadata": {},
   "outputs": [],
   "source": [
    "df = df.replace('?', np.nan)"
   ]
  },
  {
   "cell_type": "code",
   "execution_count": 71,
   "metadata": {},
   "outputs": [],
   "source": [
    "for col in df.columns:\n",
    "    df[col] = df[col].astype(float)"
   ]
  },
  {
   "cell_type": "code",
   "execution_count": 93,
   "metadata": {},
   "outputs": [],
   "source": [
    "for col in df.columns:\n",
    "    num_responses = len(df[col].value_counts(dropna=False))\n",
    "    if num_responses <= 3:\n",
    "        df[col] = df[col].astype(str).str.replace('0.0', 'No').str.replace('1.0', 'Yes')"
   ]
  },
  {
   "cell_type": "code",
   "execution_count": 101,
   "metadata": {},
   "outputs": [
    {
     "data": {
      "text/plain": [
       "0       No\n",
       "1       No\n",
       "2       No\n",
       "3      Yes\n",
       "4       No\n",
       "      ... \n",
       "853     No\n",
       "854     No\n",
       "855     No\n",
       "856     No\n",
       "857     No\n",
       "Name: smokes, Length: 858, dtype: object"
      ]
     },
     "execution_count": 101,
     "metadata": {},
     "output_type": "execute_result"
    }
   ],
   "source": [
    "df.smokes"
   ]
  },
  {
   "cell_type": "code",
   "execution_count": 118,
   "metadata": {},
   "outputs": [
    {
     "data": {
      "text/plain": [
       "<matplotlib.axes._subplots.AxesSubplot at 0x7f9e252e4160>"
      ]
     },
     "execution_count": 118,
     "metadata": {},
     "output_type": "execute_result"
    },
    {
     "data": {
      "image/png": "[encoded data removed]",
      "text/plain": [
       "<Figure size 432x288 with 1 Axes>"
      ]
     },
     "metadata": {
      "needs_background": "light"
     },
     "output_type": "display_data"
    }
   ],
   "source": [
    "df.smokes [df.smokes != 'nan'].value_counts().plot.bar()"
   ]
  },
  {
   "cell_type": "code",
   "execution_count": 127,
   "metadata": {
    "scrolled": false
   },
   "outputs": [
    {
     "data": {
      "image/png": "[encoded data removed]",
      "text/plain": [
       "<Figure size 432x288 with 1 Axes>"
      ]
     },
     "metadata": {
      "needs_background": "light"
     },
     "output_type": "display_data"
    },
    {
     "data": {
      "image/png": "[encoded data removed]",
      "text/plain": [
       "<Figure size 432x288 with 1 Axes>"
      ]
     },
     "metadata": {
      "needs_background": "light"
     },
     "output_type": "display_data"
    },
    {
     "data": {
      "image/png": "[encoded data removed]",
      "text/plain": [
       "<Figure size 432x288 with 1 Axes>"
      ]
     },
     "metadata": {
      "needs_background": "light"
     },
     "output_type": "display_data"
    },
    {
     "data": {
      "image/png": "[encoded data removed]",
      "text/plain": [
       "<Figure size 432x288 with 1 Axes>"
      ]
     },
     "metadata": {
      "needs_background": "light"
     },
     "output_type": "display_data"
    },
    {
     "data": {
      "image/png": "[encoded data removed]",
      "text/plain": [
       "<Figure size 432x288 with 1 Axes>"
      ]
     },
     "metadata": {
      "needs_background": "light"
     },
     "output_type": "display_data"
    },
    {
     "data": {
      "image/png": "[encoded data removed]",
      "text/plain": [
       "<Figure size 432x288 with 1 Axes>"
      ]
     },
     "metadata": {
      "needs_background": "light"
     },
     "output_type": "display_data"
    },
    {
     "data": {
      "image/png": "[encoded data removed]",
      "text/plain": [
       "<Figure size 432x288 with 1 Axes>"
      ]
     },
     "metadata": {
      "needs_background": "light"
     },
     "output_type": "display_data"
    },
    {
     "data": {
      "image/png": "[encoded data removed]",
      "text/plain": [
       "<Figure size 432x288 with 1 Axes>"
      ]
     },
     "metadata": {
      "needs_background": "light"
     },
     "output_type": "display_data"
    },
    {
     "data": {
      "image/png": "[encoded data removed]",
      "text/plain": [
       "<Figure size 432x288 with 1 Axes>"
      ]
     },
     "metadata": {
      "needs_background": "light"
     },
     "output_type": "display_data"
    },
    {
     "data": {
      "image/png": "[encoded data removed]",
      "text/plain": [
       "<Figure size 432x288 with 1 Axes>"
      ]
     },
     "metadata": {
      "needs_background": "light"
     },
     "output_type": "display_data"
    },
    {
     "data": {
      "image/png": "[encoded data removed]",
      "text/plain": [
       "<Figure size 432x288 with 1 Axes>"
      ]
     },
     "metadata": {
      "needs_background": "light"
     },
     "output_type": "display_data"
    },
    {
     "data": {
      "image/png": "[encoded data removed]",
      "text/plain": [
       "<Figure size 432x288 with 1 Axes>"
      ]
     },
     "metadata": {
      "needs_background": "light"
     },
     "output_type": "display_data"
    },
    {
     "data": {
      "image/png": "[encoded data removed]",
      "text/plain": [
       "<Figure size 432x288 with 1 Axes>"
      ]
     },
     "metadata": {
      "needs_background": "light"
     },
     "output_type": "display_data"
    }
   ],
   "source": [
    "for col in df.columns:\n",
    "    if df[col].dtype == 'float64':\n",
    "        df[col].plot.hist()\n",
    "        plt.xlabel(col)\n",
    "        plt.show()\n",
    "    else:\n",
    "        df[col] [df[col] != 'nan'].value_counts().plot.bar()"
   ]
  },
  {
   "cell_type": "code",
   "execution_count": null,
   "metadata": {},
   "outputs": [],
   "source": []
  }
 ],
 "metadata": {
  "kernelspec": {
   "display_name": "Python 3",
   "language": "python",
   "name": "python3"
  },
  "language_info": {
   "codemirror_mode": {
    "name": "ipython",
    "version": 3
   },
   "file_extension": ".py",
   "mimetype": "text/x-python",
   "name": "python",
   "nbconvert_exporter": "python",
   "pygments_lexer": "ipython3",
   "version": "3.7.3"
  },
  "toc": {
   "base_numbering": 1,
   "nav_menu": {},
   "number_sections": false,
   "sideBar": true,
   "skip_h1_title": true,
   "title_cell": "Table of Contents",
   "title_sidebar": "Contents",
   "toc_cell": false,
   "toc_position": {},
   "toc_section_display": true,
   "toc_window_display": false
  }
 },
 "nbformat": 4,
 "nbformat_minor": 2
}
